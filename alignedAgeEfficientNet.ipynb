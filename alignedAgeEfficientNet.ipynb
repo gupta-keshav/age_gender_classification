{
  "nbformat": 4,
  "nbformat_minor": 0,
  "metadata": {
    "colab": {
      "name": "alignedAgeEfficientNet.ipynb",
      "provenance": [],
      "toc_visible": true
    },
    "kernelspec": {
      "name": "python3",
      "display_name": "Python 3"
    },
    "accelerator": "GPU"
  },
  "cells": [
    {
      "cell_type": "code",
      "metadata": {
        "id": "UEbytDIGBOJu",
        "outputId": "b4ac6117-3a9e-4653-ab7d-dc9c56038e55",
        "colab": {
          "base_uri": "https://localhost:8080/",
          "height": 122
        }
      },
      "source": [
        "from google.colab import drive\n",
        "drive.mount('/content/drive')"
      ],
      "execution_count": null,
      "outputs": [
        {
          "output_type": "stream",
          "text": [
            "Go to this URL in a browser: https://accounts.google.com/o/oauth2/auth?client_id=947318989803-6bn6qk8qdgf4n4g3pfee6491hc0brc4i.apps.googleusercontent.com&redirect_uri=urn%3aietf%3awg%3aoauth%3a2.0%3aoob&response_type=code&scope=email%20https%3a%2f%2fwww.googleapis.com%2fauth%2fdocs.test%20https%3a%2f%2fwww.googleapis.com%2fauth%2fdrive%20https%3a%2f%2fwww.googleapis.com%2fauth%2fdrive.photos.readonly%20https%3a%2f%2fwww.googleapis.com%2fauth%2fpeopleapi.readonly\n",
            "\n",
            "Enter your authorization code:\n",
            "··········\n",
            "Mounted at /content/drive\n"
          ],
          "name": "stdout"
        }
      ]
    },
    {
      "cell_type": "code",
      "metadata": {
        "id": "hRa0QcftChPo",
        "outputId": "cc86fb7e-4aa7-4f70-f21e-d43423ee7998",
        "colab": {
          "base_uri": "https://localhost:8080/",
          "height": 208
        }
      },
      "source": [
        "%pip install patool\n",
        "import patoolib\n",
        "patoolib.extract_archive(\"/content/drive/My Drive/Adience/datasetAge.rar\", outdir=\"/content\")"
      ],
      "execution_count": null,
      "outputs": [
        {
          "output_type": "stream",
          "text": [
            "Collecting patool\n",
            "\u001b[?25l  Downloading https://files.pythonhosted.org/packages/43/94/52243ddff508780dd2d8110964320ab4851134a55ab102285b46e740f76a/patool-1.12-py2.py3-none-any.whl (77kB)\n",
            "\r\u001b[K     |████▎                           | 10kB 21.6MB/s eta 0:00:01\r\u001b[K     |████████▌                       | 20kB 1.7MB/s eta 0:00:01\r\u001b[K     |████████████▊                   | 30kB 2.2MB/s eta 0:00:01\r\u001b[K     |█████████████████               | 40kB 2.4MB/s eta 0:00:01\r\u001b[K     |█████████████████████▏          | 51kB 2.0MB/s eta 0:00:01\r\u001b[K     |█████████████████████████▍      | 61kB 2.2MB/s eta 0:00:01\r\u001b[K     |█████████████████████████████▋  | 71kB 2.5MB/s eta 0:00:01\r\u001b[K     |████████████████████████████████| 81kB 2.2MB/s \n",
            "\u001b[?25hInstalling collected packages: patool\n",
            "Successfully installed patool-1.12\n",
            "patool: Extracting /content/drive/My Drive/Adience/datasetAge.rar ...\n",
            "patool: running /usr/bin/unrar x -- \"/content/drive/My Drive/Adience/datasetAge.rar\"\n",
            "patool:     with cwd='/content'\n",
            "patool: ... /content/drive/My Drive/Adience/datasetAge.rar extracted to `/content'.\n"
          ],
          "name": "stdout"
        },
        {
          "output_type": "execute_result",
          "data": {
            "application/vnd.google.colaboratory.intrinsic": {
              "type": "string"
            },
            "text/plain": [
              "'/content'"
            ]
          },
          "metadata": {
            "tags": []
          },
          "execution_count": 2
        }
      ]
    },
    {
      "cell_type": "code",
      "metadata": {
        "id": "2zonsZNLCmwX",
        "outputId": "86aa0995-3980-4a0f-8d32-a188aa50ea41",
        "colab": {
          "base_uri": "https://localhost:8080/",
          "height": 34
        }
      },
      "source": [
        "import keras\n",
        "import  tensorflow as tf\n",
        "from keras.models import Sequential\n",
        "from keras.layers import Dense, Dropout, Flatten, Conv2D, MaxPooling2D, AveragePooling2D, PReLU, ReLU, Input, GlobalAveragePooling2D\n",
        "from keras import optimizers, regularizers\n",
        "from keras.preprocessing.image import ImageDataGenerator\n",
        "import numpy as np\n",
        "np.random.seed(48)\n",
        "from keras.applications import vgg19\n",
        "from keras.models import Model, load_model\n",
        "from keras.optimizers import Adam\n",
        "# input_shape = (224, 224, 3)\n",
        "# vgg = vgg19.VGG19(include_top=False ,weights='imagenet', \n",
        "#                                      input_shape=input_shape)   \n",
        "from keras.callbacks import ModelCheckpoint, Callback, EarlyStopping, ReduceLROnPlateau"
      ],
      "execution_count": null,
      "outputs": [
        {
          "output_type": "stream",
          "text": [
            "Using TensorFlow backend.\n"
          ],
          "name": "stderr"
        }
      ]
    },
    {
      "cell_type": "code",
      "metadata": {
        "id": "XvuGAfklE5q1"
      },
      "source": [
        "class FixedImageDataGenerator(ImageDataGenerator):\n",
        "  def standardize(self, x):\n",
        "    if self.featurewise_center:\n",
        "      img = tf.keras.applications.resnet50.preprocess_input(x)\n",
        "      # x = ((x/255.) - 0.5) * 2.\n",
        "    return x"
      ],
      "execution_count": null,
      "outputs": []
    },
    {
      "cell_type": "code",
      "metadata": {
        "id": "w0LV7EFKFjFR"
      },
      "source": [
        "IMG_WIDTH = 256\n",
        "IMG_HEIGHT = 256\n",
        "CHANNELS = 3"
      ],
      "execution_count": null,
      "outputs": []
    },
    {
      "cell_type": "code",
      "metadata": {
        "id": "ZxyFAWMNET03",
        "outputId": "7b9f2b8c-1905-4ef8-948b-c8e6c9f0feed",
        "colab": {
          "base_uri": "https://localhost:8080/",
          "height": 51
        }
      },
      "source": [
        "train_datagen = ImageDataGenerator(\n",
        "    featurewise_center=True,\n",
        "    featurewise_std_normalization=True,\n",
        "    rotation_range=20,\n",
        "    width_shift_range=0.2,\n",
        "    height_shift_range=0.2,\n",
        "    horizontal_flip=True,)\n",
        "\n",
        "train_datagen = FixedImageDataGenerator(train_datagen)\n",
        "train_generator = train_datagen.flow_from_directory(\n",
        "        '/content/datasetAge/train',\n",
        "        target_size=(IMG_WIDTH, IMG_HEIGHT),\n",
        "        batch_size=32,\n",
        "        class_mode='categorical')\n",
        "\n",
        "validate_datagen = ImageDataGenerator(\n",
        "        featurewise_center=True,\n",
        "        featurewise_std_normalization=True)\n",
        "\n",
        "validate_generator = validate_datagen.flow_from_directory(\n",
        "        '/content/datasetAge/test',\n",
        "        target_size=(IMG_WIDTH, IMG_HEIGHT),\n",
        "        batch_size=32,\n",
        "        class_mode='categorical')"
      ],
      "execution_count": null,
      "outputs": [
        {
          "output_type": "stream",
          "text": [
            "Found 13840 images belonging to 8 classes.\n",
            "Found 3676 images belonging to 8 classes.\n"
          ],
          "name": "stdout"
        }
      ]
    },
    {
      "cell_type": "code",
      "metadata": {
        "id": "Up-AuIAI1YgR",
        "outputId": "44953989-c78f-48bd-9177-68eea5f8825d",
        "colab": {
          "base_uri": "https://localhost:8080/",
          "height": 377
        }
      },
      "source": [
        "!pip install efficientnet\n",
        "import efficientnet.keras as efn "
      ],
      "execution_count": null,
      "outputs": [
        {
          "output_type": "stream",
          "text": [
            "Collecting efficientnet\n",
            "  Downloading https://files.pythonhosted.org/packages/28/91/67848a143b54c331605bfba5fd31cf4e9db13d2e429d103fe807acc3bcf4/efficientnet-1.1.0-py3-none-any.whl\n",
            "Requirement already satisfied: scikit-image in /usr/local/lib/python3.6/dist-packages (from efficientnet) (0.16.2)\n",
            "Requirement already satisfied: keras-applications<=1.0.8,>=1.0.7 in /usr/local/lib/python3.6/dist-packages (from efficientnet) (1.0.8)\n",
            "Requirement already satisfied: pillow>=4.3.0 in /usr/local/lib/python3.6/dist-packages (from scikit-image->efficientnet) (7.0.0)\n",
            "Requirement already satisfied: PyWavelets>=0.4.0 in /usr/local/lib/python3.6/dist-packages (from scikit-image->efficientnet) (1.1.1)\n",
            "Requirement already satisfied: imageio>=2.3.0 in /usr/local/lib/python3.6/dist-packages (from scikit-image->efficientnet) (2.4.1)\n",
            "Requirement already satisfied: scipy>=0.19.0 in /usr/local/lib/python3.6/dist-packages (from scikit-image->efficientnet) (1.4.1)\n",
            "Requirement already satisfied: matplotlib!=3.0.0,>=2.0.0 in /usr/local/lib/python3.6/dist-packages (from scikit-image->efficientnet) (3.2.2)\n",
            "Requirement already satisfied: networkx>=2.0 in /usr/local/lib/python3.6/dist-packages (from scikit-image->efficientnet) (2.4)\n",
            "Requirement already satisfied: h5py in /usr/local/lib/python3.6/dist-packages (from keras-applications<=1.0.8,>=1.0.7->efficientnet) (2.10.0)\n",
            "Requirement already satisfied: numpy>=1.9.1 in /usr/local/lib/python3.6/dist-packages (from keras-applications<=1.0.8,>=1.0.7->efficientnet) (1.18.5)\n",
            "Requirement already satisfied: cycler>=0.10 in /usr/local/lib/python3.6/dist-packages (from matplotlib!=3.0.0,>=2.0.0->scikit-image->efficientnet) (0.10.0)\n",
            "Requirement already satisfied: python-dateutil>=2.1 in /usr/local/lib/python3.6/dist-packages (from matplotlib!=3.0.0,>=2.0.0->scikit-image->efficientnet) (2.8.1)\n",
            "Requirement already satisfied: pyparsing!=2.0.4,!=2.1.2,!=2.1.6,>=2.0.1 in /usr/local/lib/python3.6/dist-packages (from matplotlib!=3.0.0,>=2.0.0->scikit-image->efficientnet) (2.4.7)\n",
            "Requirement already satisfied: kiwisolver>=1.0.1 in /usr/local/lib/python3.6/dist-packages (from matplotlib!=3.0.0,>=2.0.0->scikit-image->efficientnet) (1.2.0)\n",
            "Requirement already satisfied: decorator>=4.3.0 in /usr/local/lib/python3.6/dist-packages (from networkx>=2.0->scikit-image->efficientnet) (4.4.2)\n",
            "Requirement already satisfied: six in /usr/local/lib/python3.6/dist-packages (from h5py->keras-applications<=1.0.8,>=1.0.7->efficientnet) (1.12.0)\n",
            "Installing collected packages: efficientnet\n",
            "Successfully installed efficientnet-1.1.0\n"
          ],
          "name": "stdout"
        }
      ]
    },
    {
      "cell_type": "code",
      "metadata": {
        "id": "RP6CNYca1Yjo"
      },
      "source": [
        "def efficientnetB0():\n",
        "    model_input = Input(shape=(IMG_WIDTH, IMG_HEIGHT, CHANNELS))\n",
        "    baseModel = efn.EfficientNetB0(weights='imagenet', include_top=False, input_tensor=model_input)\n",
        "    # for layer in baseModel.layers:\n",
        "\t#     layer.trainable = False\n",
        "    # for i, layer in enumerate(baseModel.layers):\n",
        "    #     if \"batch_normalization\" in layer.name:\n",
        "    #         baseModel.layers[i] = GroupNormalization(groups=32, axis=-1, epsilon=0.00001)\n",
        "    X = baseModel.output\n",
        "    X = GlobalAveragePooling2D()(X)\n",
        "    X = Dense(4096, activation=\"relu\", kernel_regularizer=regularizers.l1_l2(l1=0.1, l2=0.1))(X)\n",
        "    X = Dropout(0.5)(X)\n",
        "    X = Dense(8, activation=\"softmax\")(X)\n",
        "    model = Model(inputs=model_input, outputs=X)\n",
        "    model.compile(optimizer=Adam(lr=1e-3, beta_1=0.9), loss='binary_crossentropy', metrics=['accuracy'])\n",
        "    return model"
      ],
      "execution_count": null,
      "outputs": []
    },
    {
      "cell_type": "code",
      "metadata": {
        "id": "mgznGRQO1YnO",
        "outputId": "7753663f-7add-4b99-b90b-47de303694b3",
        "colab": {
          "base_uri": "https://localhost:8080/",
          "height": 71
        }
      },
      "source": [
        "efficientnetb0_model = efficientnetB0()"
      ],
      "execution_count": null,
      "outputs": [
        {
          "output_type": "stream",
          "text": [
            "Downloading data from https://github.com/Callidior/keras-applications/releases/download/efficientnet/efficientnet-b0_weights_tf_dim_ordering_tf_kernels_autoaugment_notop.h5\n",
            "16809984/16804768 [==============================] - 2s 0us/step\n"
          ],
          "name": "stdout"
        }
      ]
    },
    {
      "cell_type": "code",
      "metadata": {
        "id": "yeJmfWYcI_ss"
      },
      "source": [
        "efficientnetb0_model.load_weights('/content/drive/My Drive/Adience/effnet-adience-age89.hdf5')"
      ],
      "execution_count": null,
      "outputs": []
    },
    {
      "cell_type": "code",
      "metadata": {
        "id": "1q0Tkr1w1Yt-"
      },
      "source": [
        "filepath= \"effnet-adience-age.hdf5\"\n",
        "checkpoint = ModelCheckpoint(filepath, monitor='val_accuracy', verbose=1, save_best_only=True, mode='max')\n",
        "early = EarlyStopping(monitor=\"val_accuracy\", mode=\"max\", patience=5)\n",
        "rlr = ReduceLROnPlateau(monitor='val_loss', \n",
        "                        factor=0.5, \n",
        "                        patience=2, \n",
        "                        verbose=1, \n",
        "                        mode='auto', \n",
        "                        min_delta=0.0001)\n",
        "callbacks_list = [checkpoint, early, rlr]"
      ],
      "execution_count": null,
      "outputs": []
    },
    {
      "cell_type": "code",
      "metadata": {
        "id": "jd8upBJ02KtC",
        "outputId": "c92e8ae2-c8cd-42e7-9d53-7d19f92a1d59",
        "colab": {
          "base_uri": "https://localhost:8080/",
          "height": 853
        }
      },
      "source": [
        "batch_size = 32\n",
        "epochs = 10\n",
        "history = efficientnetb0_model.fit_generator(train_generator, \n",
        "                              steps_per_epoch = train_generator.samples // batch_size, \n",
        "                              epochs = epochs,\n",
        "                              validation_data = validate_generator,\n",
        "                              validation_steps= validate_generator.samples // batch_size, \n",
        "                              callbacks = callbacks_list,\n",
        "                              verbose=1)"
      ],
      "execution_count": null,
      "outputs": [
        {
          "output_type": "stream",
          "text": [
            "Epoch 1/10\n"
          ],
          "name": "stdout"
        },
        {
          "output_type": "stream",
          "text": [
            "/usr/local/lib/python3.6/dist-packages/keras_preprocessing/image/image_data_generator.py:720: UserWarning: This ImageDataGenerator specifies `featurewise_center`, but it hasn't been fit on any training data. Fit it first by calling `.fit(numpy_data)`.\n",
            "  warnings.warn('This ImageDataGenerator specifies '\n",
            "/usr/local/lib/python3.6/dist-packages/keras_preprocessing/image/image_data_generator.py:728: UserWarning: This ImageDataGenerator specifies `featurewise_std_normalization`, but it hasn't been fit on any training data. Fit it first by calling `.fit(numpy_data)`.\n",
            "  warnings.warn('This ImageDataGenerator specifies '\n"
          ],
          "name": "stderr"
        },
        {
          "output_type": "stream",
          "text": [
            "432/432 [==============================] - 201s 465ms/step - loss: 8.8427 - accuracy: 0.9184 - val_loss: 8.7401 - val_accuracy: 0.8809\n",
            "\n",
            "Epoch 00001: val_accuracy did not improve from 0.89431\n",
            "Epoch 2/10\n",
            "432/432 [==============================] - 201s 466ms/step - loss: 8.7533 - accuracy: 0.9183 - val_loss: 8.6176 - val_accuracy: 0.8747\n",
            "\n",
            "Epoch 00002: val_accuracy did not improve from 0.89431\n",
            "Epoch 3/10\n",
            "432/432 [==============================] - 202s 468ms/step - loss: 8.6853 - accuracy: 0.9195 - val_loss: 8.7395 - val_accuracy: 0.8823\n",
            "\n",
            "Epoch 00003: val_accuracy did not improve from 0.89431\n",
            "Epoch 4/10\n",
            "432/432 [==============================] - 202s 467ms/step - loss: 8.6369 - accuracy: 0.9202 - val_loss: 9.0194 - val_accuracy: 0.8854\n",
            "\n",
            "Epoch 00004: val_accuracy did not improve from 0.89431\n",
            "\n",
            "Epoch 00004: ReduceLROnPlateau reducing learning rate to 6.25000029685907e-05.\n",
            "Epoch 5/10\n",
            "432/432 [==============================] - 202s 467ms/step - loss: 4.6720 - accuracy: 0.9180 - val_loss: 4.6358 - val_accuracy: 0.8829\n",
            "\n",
            "Epoch 00005: val_accuracy did not improve from 0.89431\n",
            "Epoch 6/10\n",
            "432/432 [==============================] - 201s 466ms/step - loss: 4.5951 - accuracy: 0.9186 - val_loss: 4.6445 - val_accuracy: 0.8700\n",
            "\n",
            "Epoch 00006: val_accuracy did not improve from 0.89431\n",
            "Epoch 7/10\n",
            "432/432 [==============================] - 202s 467ms/step - loss: 4.6303 - accuracy: 0.9190 - val_loss: 4.6181 - val_accuracy: 0.8907\n",
            "\n",
            "Epoch 00007: val_accuracy did not improve from 0.89431\n",
            "Epoch 8/10\n",
            "432/432 [==============================] - 201s 465ms/step - loss: 4.6027 - accuracy: 0.9197 - val_loss: 4.6882 - val_accuracy: 0.8811\n",
            "\n",
            "Epoch 00008: val_accuracy did not improve from 0.89431\n",
            "Epoch 9/10\n",
            "432/432 [==============================] - 201s 464ms/step - loss: 4.5827 - accuracy: 0.9204 - val_loss: 4.8353 - val_accuracy: 0.8800\n",
            "\n",
            "Epoch 00009: val_accuracy did not improve from 0.89431\n",
            "\n",
            "Epoch 00009: ReduceLROnPlateau reducing learning rate to 3.125000148429535e-05.\n",
            "Epoch 10/10\n",
            "432/432 [==============================] - 201s 465ms/step - loss: 2.5407 - accuracy: 0.9172 - val_loss: 2.7844 - val_accuracy: 0.8889\n",
            "\n",
            "Epoch 00010: val_accuracy did not improve from 0.89431\n"
          ],
          "name": "stdout"
        }
      ]
    },
    {
      "cell_type": "code",
      "metadata": {
        "id": "7waak7ax2Kx_"
      },
      "source": [
        "!cp '/content/effnet-adience-age89.hdf5' '/content/drive/My Drive/Adience'"
      ],
      "execution_count": null,
      "outputs": []
    },
    {
      "cell_type": "code",
      "metadata": {
        "id": "UpW8XiiB2K01"
      },
      "source": [
        ""
      ],
      "execution_count": null,
      "outputs": []
    },
    {
      "cell_type": "code",
      "metadata": {
        "id": "n3Ucgy7I2Kv5"
      },
      "source": [
        ""
      ],
      "execution_count": null,
      "outputs": []
    }
  ]
}