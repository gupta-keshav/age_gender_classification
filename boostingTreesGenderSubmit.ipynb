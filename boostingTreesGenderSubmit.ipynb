{
  "nbformat": 4,
  "nbformat_minor": 0,
  "metadata": {
    "colab": {
      "name": "boostingTreesGenderSubmit.ipynb",
      "provenance": [],
      "authorship_tag": "ABX9TyMOhp7/1JosPZXbKnEIyTyR",
      "include_colab_link": true
    },
    "kernelspec": {
      "name": "python3",
      "display_name": "Python 3"
    },
    "accelerator": "GPU"
  },
  "cells": [
    {
      "cell_type": "markdown",
      "metadata": {
        "id": "view-in-github",
        "colab_type": "text"
      },
      "source": [
        "<a href=\"https://colab.research.google.com/github/gupta-keshav/age_gender_classification/blob/master/boostingTreesGenderSubmit.ipynb\" target=\"_parent\"><img src=\"https://colab.research.google.com/assets/colab-badge.svg\" alt=\"Open In Colab\"/></a>"
      ]
    },
    {
      "cell_type": "code",
      "metadata": {
        "id": "eZ6HL3jkuU6B",
        "colab_type": "code",
        "colab": {
          "base_uri": "https://localhost:8080/",
          "height": 129
        },
        "outputId": "fc53461a-d2dd-4ecd-ac66-f5cad4b113e9"
      },
      "source": [
        "from google.colab import drive\n",
        "drive.mount('/content/drive')"
      ],
      "execution_count": 1,
      "outputs": [
        {
          "output_type": "stream",
          "text": [
            "Go to this URL in a browser: https://accounts.google.com/o/oauth2/auth?client_id=947318989803-6bn6qk8qdgf4n4g3pfee6491hc0brc4i.apps.googleusercontent.com&redirect_uri=urn%3aietf%3awg%3aoauth%3a2.0%3aoob&response_type=code&scope=email%20https%3a%2f%2fwww.googleapis.com%2fauth%2fdocs.test%20https%3a%2f%2fwww.googleapis.com%2fauth%2fdrive%20https%3a%2f%2fwww.googleapis.com%2fauth%2fdrive.photos.readonly%20https%3a%2f%2fwww.googleapis.com%2fauth%2fpeopleapi.readonly\n",
            "\n",
            "Enter your authorization code:\n",
            "··········\n",
            "Mounted at /content/drive\n"
          ],
          "name": "stdout"
        }
      ]
    },
    {
      "cell_type": "code",
      "metadata": {
        "id": "MbrFcfbNuc53",
        "colab_type": "code",
        "colab": {
          "base_uri": "https://localhost:8080/",
          "height": 201
        },
        "outputId": "7257f408-a99d-47d1-fd9d-dc2b3ca17d6c"
      },
      "source": [
        "%pip install patool\n",
        "import patoolib\n",
        "patoolib.extract_archive(\"/content/drive/My Drive/Adience/alignedGender.rar\", outdir=\"/content\")"
      ],
      "execution_count": 2,
      "outputs": [
        {
          "output_type": "stream",
          "text": [
            "Collecting patool\n",
            "\u001b[?25l  Downloading https://files.pythonhosted.org/packages/43/94/52243ddff508780dd2d8110964320ab4851134a55ab102285b46e740f76a/patool-1.12-py2.py3-none-any.whl (77kB)\n",
            "\r\u001b[K     |████▎                           | 10kB 17.3MB/s eta 0:00:01\r\u001b[K     |████████▌                       | 20kB 6.6MB/s eta 0:00:01\r\u001b[K     |████████████▊                   | 30kB 7.1MB/s eta 0:00:01\r\u001b[K     |█████████████████               | 40kB 5.1MB/s eta 0:00:01\r\u001b[K     |█████████████████████▏          | 51kB 4.8MB/s eta 0:00:01\r\u001b[K     |█████████████████████████▍      | 61kB 5.6MB/s eta 0:00:01\r\u001b[K     |█████████████████████████████▋  | 71kB 6.1MB/s eta 0:00:01\r\u001b[K     |████████████████████████████████| 81kB 4.7MB/s \n",
            "\u001b[?25hInstalling collected packages: patool\n",
            "Successfully installed patool-1.12\n",
            "patool: Extracting /content/drive/My Drive/Adience/alignedGender.rar ...\n",
            "patool: running /usr/bin/unrar x -- \"/content/drive/My Drive/Adience/alignedGender.rar\"\n",
            "patool:     with cwd='/content'\n",
            "patool: ... /content/drive/My Drive/Adience/alignedGender.rar extracted to `/content'.\n"
          ],
          "name": "stdout"
        },
        {
          "output_type": "execute_result",
          "data": {
            "text/plain": [
              "'/content'"
            ]
          },
          "metadata": {
            "tags": []
          },
          "execution_count": 2
        }
      ]
    },
    {
      "cell_type": "code",
      "metadata": {
        "id": "ALr_Ko-0uknm",
        "colab_type": "code",
        "colab": {
          "base_uri": "https://localhost:8080/",
          "height": 487
        },
        "outputId": "3374ac75-b0dd-4191-ee6e-08c9de9ba57d"
      },
      "source": [
        "from keras.models import Sequential\n",
        "from keras.layers import Dense, Dropout, Flatten, Conv2D, MaxPooling2D, AveragePooling2D, PReLU, ReLU\n",
        "from keras import optimizers, regularizers\n",
        "from keras.preprocessing.image import ImageDataGenerator\n",
        "import numpy as np\n",
        "np.random.seed(48)\n",
        "from keras.applications import vgg19\n",
        "from keras.models import Model\n",
        "input_shape = (256, 256, 3)\n",
        "vgg = vgg19.VGG19(include_top=False ,weights='imagenet', \n",
        "                                     input_shape=input_shape)   "
      ],
      "execution_count": 3,
      "outputs": [
        {
          "output_type": "stream",
          "text": [
            "Using TensorFlow backend.\n"
          ],
          "name": "stderr"
        },
        {
          "output_type": "display_data",
          "data": {
            "text/html": [
              "<p style=\"color: red;\">\n",
              "The default version of TensorFlow in Colab will soon switch to TensorFlow 2.x.<br>\n",
              "We recommend you <a href=\"https://www.tensorflow.org/guide/migrate\" target=\"_blank\">upgrade</a> now \n",
              "or ensure your notebook will continue to use TensorFlow 1.x via the <code>%tensorflow_version 1.x</code> magic:\n",
              "<a href=\"https://colab.research.google.com/notebooks/tensorflow_version.ipynb\" target=\"_blank\">more info</a>.</p>\n"
            ],
            "text/plain": [
              "<IPython.core.display.HTML object>"
            ]
          },
          "metadata": {
            "tags": []
          }
        },
        {
          "output_type": "stream",
          "text": [
            "WARNING:tensorflow:From /usr/local/lib/python3.6/dist-packages/keras/backend/tensorflow_backend.py:66: The name tf.get_default_graph is deprecated. Please use tf.compat.v1.get_default_graph instead.\n",
            "\n",
            "WARNING:tensorflow:From /usr/local/lib/python3.6/dist-packages/keras/backend/tensorflow_backend.py:541: The name tf.placeholder is deprecated. Please use tf.compat.v1.placeholder instead.\n",
            "\n",
            "WARNING:tensorflow:From /usr/local/lib/python3.6/dist-packages/keras/backend/tensorflow_backend.py:4432: The name tf.random_uniform is deprecated. Please use tf.random.uniform instead.\n",
            "\n",
            "WARNING:tensorflow:From /usr/local/lib/python3.6/dist-packages/keras/backend/tensorflow_backend.py:4267: The name tf.nn.max_pool is deprecated. Please use tf.nn.max_pool2d instead.\n",
            "\n",
            "Downloading data from https://github.com/fchollet/deep-learning-models/releases/download/v0.1/vgg19_weights_tf_dim_ordering_tf_kernels_notop.h5\n",
            "80142336/80134624 [==============================] - 3s 0us/step\n",
            "WARNING:tensorflow:From /usr/local/lib/python3.6/dist-packages/keras/backend/tensorflow_backend.py:190: The name tf.get_default_session is deprecated. Please use tf.compat.v1.get_default_session instead.\n",
            "\n",
            "WARNING:tensorflow:From /usr/local/lib/python3.6/dist-packages/keras/backend/tensorflow_backend.py:197: The name tf.ConfigProto is deprecated. Please use tf.compat.v1.ConfigProto instead.\n",
            "\n",
            "WARNING:tensorflow:From /usr/local/lib/python3.6/dist-packages/keras/backend/tensorflow_backend.py:203: The name tf.Session is deprecated. Please use tf.compat.v1.Session instead.\n",
            "\n",
            "WARNING:tensorflow:From /usr/local/lib/python3.6/dist-packages/keras/backend/tensorflow_backend.py:207: The name tf.global_variables is deprecated. Please use tf.compat.v1.global_variables instead.\n",
            "\n",
            "WARNING:tensorflow:From /usr/local/lib/python3.6/dist-packages/keras/backend/tensorflow_backend.py:216: The name tf.is_variable_initialized is deprecated. Please use tf.compat.v1.is_variable_initialized instead.\n",
            "\n",
            "WARNING:tensorflow:From /usr/local/lib/python3.6/dist-packages/keras/backend/tensorflow_backend.py:223: The name tf.variables_initializer is deprecated. Please use tf.compat.v1.variables_initializer instead.\n",
            "\n"
          ],
          "name": "stdout"
        }
      ]
    },
    {
      "cell_type": "code",
      "metadata": {
        "id": "1OJ7Ix0Ruqg1",
        "colab_type": "code",
        "colab": {}
      },
      "source": [
        "last = vgg.output"
      ],
      "execution_count": 0,
      "outputs": []
    },
    {
      "cell_type": "code",
      "metadata": {
        "id": "6VgXXhsMvCen",
        "colab_type": "code",
        "colab": {
          "base_uri": "https://localhost:8080/",
          "height": 147
        },
        "outputId": "f1902ee1-3b18-41ac-93c1-33bc9965d047"
      },
      "source": [
        "x = Flatten()(last)\n",
        "x = Dropout(0.3)(x)\n",
        "x = Dense(4096, activation='relu', kernel_regularizer=regularizers.l1_l2(l1=0.1, l2=0.1))(x)\n",
        "x = Dropout(0.55)(x)"
      ],
      "execution_count": 5,
      "outputs": [
        {
          "output_type": "stream",
          "text": [
            "WARNING:tensorflow:From /usr/local/lib/python3.6/dist-packages/keras/backend/tensorflow_backend.py:148: The name tf.placeholder_with_default is deprecated. Please use tf.compat.v1.placeholder_with_default instead.\n",
            "\n",
            "WARNING:tensorflow:From /usr/local/lib/python3.6/dist-packages/keras/backend/tensorflow_backend.py:3733: calling dropout (from tensorflow.python.ops.nn_ops) with keep_prob is deprecated and will be removed in a future version.\n",
            "Instructions for updating:\n",
            "Please use `rate` instead of `keep_prob`. Rate should be set to `rate = 1 - keep_prob`.\n",
            "WARNING:tensorflow:Large dropout rate: 0.55 (>0.5). In TensorFlow 2.x, dropout() uses dropout rate instead of keep_prob. Please ensure that this is intended.\n"
          ],
          "name": "stdout"
        }
      ]
    },
    {
      "cell_type": "code",
      "metadata": {
        "id": "mOoPlVbIvDp1",
        "colab_type": "code",
        "colab": {}
      },
      "source": [
        "preds = Dense(1, activation = 'sigmoid')(x)"
      ],
      "execution_count": 0,
      "outputs": []
    },
    {
      "cell_type": "code",
      "metadata": {
        "id": "TT-iQpGLvE42",
        "colab_type": "code",
        "colab": {}
      },
      "source": [
        "cnn_model = Model(vgg.input, preds)"
      ],
      "execution_count": 0,
      "outputs": []
    },
    {
      "cell_type": "code",
      "metadata": {
        "id": "6axC6xV8vF4O",
        "colab_type": "code",
        "colab": {
          "base_uri": "https://localhost:8080/",
          "height": 896
        },
        "outputId": "c5dba505-6226-4a4f-b994-62c71837120d"
      },
      "source": [
        "import pandas as pd\n",
        "layers = [(layer.output, layer.name, layer.trainable) for layer in cnn_model.layers]\n",
        "pd.set_option('max_colwidth', -1)\n",
        "\n",
        "pd.DataFrame(layers, columns=['Layer Type', 'Layer Name', 'Layer Trainable']) "
      ],
      "execution_count": 8,
      "outputs": [
        {
          "output_type": "execute_result",
          "data": {
            "text/html": [
              "<div>\n",
              "<style scoped>\n",
              "    .dataframe tbody tr th:only-of-type {\n",
              "        vertical-align: middle;\n",
              "    }\n",
              "\n",
              "    .dataframe tbody tr th {\n",
              "        vertical-align: top;\n",
              "    }\n",
              "\n",
              "    .dataframe thead th {\n",
              "        text-align: right;\n",
              "    }\n",
              "</style>\n",
              "<table border=\"1\" class=\"dataframe\">\n",
              "  <thead>\n",
              "    <tr style=\"text-align: right;\">\n",
              "      <th></th>\n",
              "      <th>Layer Type</th>\n",
              "      <th>Layer Name</th>\n",
              "      <th>Layer Trainable</th>\n",
              "    </tr>\n",
              "  </thead>\n",
              "  <tbody>\n",
              "    <tr>\n",
              "      <th>0</th>\n",
              "      <td>Tensor(\"input_1:0\", shape=(?, 256, 256, 3), dtype=float32)</td>\n",
              "      <td>input_1</td>\n",
              "      <td>False</td>\n",
              "    </tr>\n",
              "    <tr>\n",
              "      <th>1</th>\n",
              "      <td>Tensor(\"block1_conv1/Relu:0\", shape=(?, 256, 256, 64), dtype=float32)</td>\n",
              "      <td>block1_conv1</td>\n",
              "      <td>True</td>\n",
              "    </tr>\n",
              "    <tr>\n",
              "      <th>2</th>\n",
              "      <td>Tensor(\"block1_conv2/Relu:0\", shape=(?, 256, 256, 64), dtype=float32)</td>\n",
              "      <td>block1_conv2</td>\n",
              "      <td>True</td>\n",
              "    </tr>\n",
              "    <tr>\n",
              "      <th>3</th>\n",
              "      <td>Tensor(\"block1_pool/MaxPool:0\", shape=(?, 128, 128, 64), dtype=float32)</td>\n",
              "      <td>block1_pool</td>\n",
              "      <td>True</td>\n",
              "    </tr>\n",
              "    <tr>\n",
              "      <th>4</th>\n",
              "      <td>Tensor(\"block2_conv1/Relu:0\", shape=(?, 128, 128, 128), dtype=float32)</td>\n",
              "      <td>block2_conv1</td>\n",
              "      <td>True</td>\n",
              "    </tr>\n",
              "    <tr>\n",
              "      <th>5</th>\n",
              "      <td>Tensor(\"block2_conv2/Relu:0\", shape=(?, 128, 128, 128), dtype=float32)</td>\n",
              "      <td>block2_conv2</td>\n",
              "      <td>True</td>\n",
              "    </tr>\n",
              "    <tr>\n",
              "      <th>6</th>\n",
              "      <td>Tensor(\"block2_pool/MaxPool:0\", shape=(?, 64, 64, 128), dtype=float32)</td>\n",
              "      <td>block2_pool</td>\n",
              "      <td>True</td>\n",
              "    </tr>\n",
              "    <tr>\n",
              "      <th>7</th>\n",
              "      <td>Tensor(\"block3_conv1/Relu:0\", shape=(?, 64, 64, 256), dtype=float32)</td>\n",
              "      <td>block3_conv1</td>\n",
              "      <td>True</td>\n",
              "    </tr>\n",
              "    <tr>\n",
              "      <th>8</th>\n",
              "      <td>Tensor(\"block3_conv2/Relu:0\", shape=(?, 64, 64, 256), dtype=float32)</td>\n",
              "      <td>block3_conv2</td>\n",
              "      <td>True</td>\n",
              "    </tr>\n",
              "    <tr>\n",
              "      <th>9</th>\n",
              "      <td>Tensor(\"block3_conv3/Relu:0\", shape=(?, 64, 64, 256), dtype=float32)</td>\n",
              "      <td>block3_conv3</td>\n",
              "      <td>True</td>\n",
              "    </tr>\n",
              "    <tr>\n",
              "      <th>10</th>\n",
              "      <td>Tensor(\"block3_conv4/Relu:0\", shape=(?, 64, 64, 256), dtype=float32)</td>\n",
              "      <td>block3_conv4</td>\n",
              "      <td>True</td>\n",
              "    </tr>\n",
              "    <tr>\n",
              "      <th>11</th>\n",
              "      <td>Tensor(\"block3_pool/MaxPool:0\", shape=(?, 32, 32, 256), dtype=float32)</td>\n",
              "      <td>block3_pool</td>\n",
              "      <td>True</td>\n",
              "    </tr>\n",
              "    <tr>\n",
              "      <th>12</th>\n",
              "      <td>Tensor(\"block4_conv1/Relu:0\", shape=(?, 32, 32, 512), dtype=float32)</td>\n",
              "      <td>block4_conv1</td>\n",
              "      <td>True</td>\n",
              "    </tr>\n",
              "    <tr>\n",
              "      <th>13</th>\n",
              "      <td>Tensor(\"block4_conv2/Relu:0\", shape=(?, 32, 32, 512), dtype=float32)</td>\n",
              "      <td>block4_conv2</td>\n",
              "      <td>True</td>\n",
              "    </tr>\n",
              "    <tr>\n",
              "      <th>14</th>\n",
              "      <td>Tensor(\"block4_conv3/Relu:0\", shape=(?, 32, 32, 512), dtype=float32)</td>\n",
              "      <td>block4_conv3</td>\n",
              "      <td>True</td>\n",
              "    </tr>\n",
              "    <tr>\n",
              "      <th>15</th>\n",
              "      <td>Tensor(\"block4_conv4/Relu:0\", shape=(?, 32, 32, 512), dtype=float32)</td>\n",
              "      <td>block4_conv4</td>\n",
              "      <td>True</td>\n",
              "    </tr>\n",
              "    <tr>\n",
              "      <th>16</th>\n",
              "      <td>Tensor(\"block4_pool/MaxPool:0\", shape=(?, 16, 16, 512), dtype=float32)</td>\n",
              "      <td>block4_pool</td>\n",
              "      <td>True</td>\n",
              "    </tr>\n",
              "    <tr>\n",
              "      <th>17</th>\n",
              "      <td>Tensor(\"block5_conv1/Relu:0\", shape=(?, 16, 16, 512), dtype=float32)</td>\n",
              "      <td>block5_conv1</td>\n",
              "      <td>True</td>\n",
              "    </tr>\n",
              "    <tr>\n",
              "      <th>18</th>\n",
              "      <td>Tensor(\"block5_conv2/Relu:0\", shape=(?, 16, 16, 512), dtype=float32)</td>\n",
              "      <td>block5_conv2</td>\n",
              "      <td>True</td>\n",
              "    </tr>\n",
              "    <tr>\n",
              "      <th>19</th>\n",
              "      <td>Tensor(\"block5_conv3/Relu:0\", shape=(?, 16, 16, 512), dtype=float32)</td>\n",
              "      <td>block5_conv3</td>\n",
              "      <td>True</td>\n",
              "    </tr>\n",
              "    <tr>\n",
              "      <th>20</th>\n",
              "      <td>Tensor(\"block5_conv4/Relu:0\", shape=(?, 16, 16, 512), dtype=float32)</td>\n",
              "      <td>block5_conv4</td>\n",
              "      <td>True</td>\n",
              "    </tr>\n",
              "    <tr>\n",
              "      <th>21</th>\n",
              "      <td>Tensor(\"block5_pool/MaxPool:0\", shape=(?, 8, 8, 512), dtype=float32)</td>\n",
              "      <td>block5_pool</td>\n",
              "      <td>True</td>\n",
              "    </tr>\n",
              "    <tr>\n",
              "      <th>22</th>\n",
              "      <td>Tensor(\"flatten_1/Reshape:0\", shape=(?, ?), dtype=float32)</td>\n",
              "      <td>flatten_1</td>\n",
              "      <td>True</td>\n",
              "    </tr>\n",
              "    <tr>\n",
              "      <th>23</th>\n",
              "      <td>Tensor(\"dropout_1/cond/Merge:0\", shape=(?, ?), dtype=float32)</td>\n",
              "      <td>dropout_1</td>\n",
              "      <td>True</td>\n",
              "    </tr>\n",
              "    <tr>\n",
              "      <th>24</th>\n",
              "      <td>Tensor(\"dense_1/Relu:0\", shape=(?, 4096), dtype=float32)</td>\n",
              "      <td>dense_1</td>\n",
              "      <td>True</td>\n",
              "    </tr>\n",
              "    <tr>\n",
              "      <th>25</th>\n",
              "      <td>Tensor(\"dropout_2/cond/Merge:0\", shape=(?, 4096), dtype=float32)</td>\n",
              "      <td>dropout_2</td>\n",
              "      <td>True</td>\n",
              "    </tr>\n",
              "    <tr>\n",
              "      <th>26</th>\n",
              "      <td>Tensor(\"dense_2/Sigmoid:0\", shape=(?, 1), dtype=float32)</td>\n",
              "      <td>dense_2</td>\n",
              "      <td>True</td>\n",
              "    </tr>\n",
              "  </tbody>\n",
              "</table>\n",
              "</div>"
            ],
            "text/plain": [
              "                                                                 Layer Type  ... Layer Trainable\n",
              "0   Tensor(\"input_1:0\", shape=(?, 256, 256, 3), dtype=float32)               ...  False         \n",
              "1   Tensor(\"block1_conv1/Relu:0\", shape=(?, 256, 256, 64), dtype=float32)    ...  True          \n",
              "2   Tensor(\"block1_conv2/Relu:0\", shape=(?, 256, 256, 64), dtype=float32)    ...  True          \n",
              "3   Tensor(\"block1_pool/MaxPool:0\", shape=(?, 128, 128, 64), dtype=float32)  ...  True          \n",
              "4   Tensor(\"block2_conv1/Relu:0\", shape=(?, 128, 128, 128), dtype=float32)   ...  True          \n",
              "5   Tensor(\"block2_conv2/Relu:0\", shape=(?, 128, 128, 128), dtype=float32)   ...  True          \n",
              "6   Tensor(\"block2_pool/MaxPool:0\", shape=(?, 64, 64, 128), dtype=float32)   ...  True          \n",
              "7   Tensor(\"block3_conv1/Relu:0\", shape=(?, 64, 64, 256), dtype=float32)     ...  True          \n",
              "8   Tensor(\"block3_conv2/Relu:0\", shape=(?, 64, 64, 256), dtype=float32)     ...  True          \n",
              "9   Tensor(\"block3_conv3/Relu:0\", shape=(?, 64, 64, 256), dtype=float32)     ...  True          \n",
              "10  Tensor(\"block3_conv4/Relu:0\", shape=(?, 64, 64, 256), dtype=float32)     ...  True          \n",
              "11  Tensor(\"block3_pool/MaxPool:0\", shape=(?, 32, 32, 256), dtype=float32)   ...  True          \n",
              "12  Tensor(\"block4_conv1/Relu:0\", shape=(?, 32, 32, 512), dtype=float32)     ...  True          \n",
              "13  Tensor(\"block4_conv2/Relu:0\", shape=(?, 32, 32, 512), dtype=float32)     ...  True          \n",
              "14  Tensor(\"block4_conv3/Relu:0\", shape=(?, 32, 32, 512), dtype=float32)     ...  True          \n",
              "15  Tensor(\"block4_conv4/Relu:0\", shape=(?, 32, 32, 512), dtype=float32)     ...  True          \n",
              "16  Tensor(\"block4_pool/MaxPool:0\", shape=(?, 16, 16, 512), dtype=float32)   ...  True          \n",
              "17  Tensor(\"block5_conv1/Relu:0\", shape=(?, 16, 16, 512), dtype=float32)     ...  True          \n",
              "18  Tensor(\"block5_conv2/Relu:0\", shape=(?, 16, 16, 512), dtype=float32)     ...  True          \n",
              "19  Tensor(\"block5_conv3/Relu:0\", shape=(?, 16, 16, 512), dtype=float32)     ...  True          \n",
              "20  Tensor(\"block5_conv4/Relu:0\", shape=(?, 16, 16, 512), dtype=float32)     ...  True          \n",
              "21  Tensor(\"block5_pool/MaxPool:0\", shape=(?, 8, 8, 512), dtype=float32)     ...  True          \n",
              "22  Tensor(\"flatten_1/Reshape:0\", shape=(?, ?), dtype=float32)               ...  True          \n",
              "23  Tensor(\"dropout_1/cond/Merge:0\", shape=(?, ?), dtype=float32)            ...  True          \n",
              "24  Tensor(\"dense_1/Relu:0\", shape=(?, 4096), dtype=float32)                 ...  True          \n",
              "25  Tensor(\"dropout_2/cond/Merge:0\", shape=(?, 4096), dtype=float32)         ...  True          \n",
              "26  Tensor(\"dense_2/Sigmoid:0\", shape=(?, 1), dtype=float32)                 ...  True          \n",
              "\n",
              "[27 rows x 3 columns]"
            ]
          },
          "metadata": {
            "tags": []
          },
          "execution_count": 8
        }
      ]
    },
    {
      "cell_type": "code",
      "metadata": {
        "id": "inFOAIt5vG21",
        "colab_type": "code",
        "colab": {}
      },
      "source": [
        "for i in range(17):\n",
        "  cnn_model.layers[i].trainable = False"
      ],
      "execution_count": 0,
      "outputs": []
    },
    {
      "cell_type": "code",
      "metadata": {
        "id": "0sYvgIhlvIQt",
        "colab_type": "code",
        "colab": {
          "base_uri": "https://localhost:8080/",
          "height": 146
        },
        "outputId": "1a8bb99b-83d9-4576-f935-72ec61ca5f30"
      },
      "source": [
        "cnn_model.compile(optimizer = optimizers.Adam(lr=1e-4), loss= 'binary_crossentropy',\n",
        "              metrics = ['accuracy'])"
      ],
      "execution_count": 10,
      "outputs": [
        {
          "output_type": "stream",
          "text": [
            "WARNING:tensorflow:From /usr/local/lib/python3.6/dist-packages/keras/optimizers.py:793: The name tf.train.Optimizer is deprecated. Please use tf.compat.v1.train.Optimizer instead.\n",
            "\n",
            "WARNING:tensorflow:From /usr/local/lib/python3.6/dist-packages/keras/backend/tensorflow_backend.py:3657: The name tf.log is deprecated. Please use tf.math.log instead.\n",
            "\n",
            "WARNING:tensorflow:From /usr/local/lib/python3.6/dist-packages/tensorflow_core/python/ops/nn_impl.py:183: where (from tensorflow.python.ops.array_ops) is deprecated and will be removed in a future version.\n",
            "Instructions for updating:\n",
            "Use tf.where in 2.0, which has the same broadcast rule as np.where\n"
          ],
          "name": "stdout"
        }
      ]
    },
    {
      "cell_type": "code",
      "metadata": {
        "id": "jFlzm4t3vJQu",
        "colab_type": "code",
        "colab": {
          "base_uri": "https://localhost:8080/",
          "height": 54
        },
        "outputId": "9c67448c-c7c5-4fc3-a3cf-4815c460fbbc"
      },
      "source": [
        "train_datagen = ImageDataGenerator()\n",
        "train_generator = train_datagen.flow_from_directory(\n",
        "        '/content/alignedGender/train',\n",
        "        target_size=(256, 256),\n",
        "        batch_size=32,\n",
        "        class_mode='binary')\n",
        "validate_generator = train_datagen.flow_from_directory(\n",
        "        '/content/alignedGender/test',\n",
        "        target_size=(256, 256),\n",
        "        batch_size=32,\n",
        "        class_mode='binary')"
      ],
      "execution_count": 11,
      "outputs": [
        {
          "output_type": "stream",
          "text": [
            "Found 14047 images belonging to 2 classes.\n",
            "Found 3445 images belonging to 2 classes.\n"
          ],
          "name": "stdout"
        }
      ]
    },
    {
      "cell_type": "code",
      "metadata": {
        "id": "PK50jMJ_vKqv",
        "colab_type": "code",
        "colab": {
          "base_uri": "https://localhost:8080/",
          "height": 237
        },
        "outputId": "1bcc18af-f8bb-483e-d8e1-25e6e9098a59"
      },
      "source": [
        "history = cnn_model.fit_generator(train_generator, steps_per_epoch=440, epochs=4, verbose=1, callbacks=None, validation_data=validate_generator, validation_steps=110, validation_freq=1, class_weight=None, max_queue_size=10, workers=0, use_multiprocessing=True, shuffle=False)"
      ],
      "execution_count": 12,
      "outputs": [
        {
          "output_type": "stream",
          "text": [
            "WARNING:tensorflow:From /usr/local/lib/python3.6/dist-packages/keras/backend/tensorflow_backend.py:1033: The name tf.assign_add is deprecated. Please use tf.compat.v1.assign_add instead.\n",
            "\n",
            "WARNING:tensorflow:From /usr/local/lib/python3.6/dist-packages/keras/backend/tensorflow_backend.py:1020: The name tf.assign is deprecated. Please use tf.compat.v1.assign instead.\n",
            "\n",
            "Epoch 1/4\n",
            "440/440 [==============================] - 430s 978ms/step - loss: 8737.8500 - acc: 0.7611 - val_loss: 170.3126 - val_acc: 0.8105\n",
            "Epoch 2/4\n",
            "440/440 [==============================] - 396s 900ms/step - loss: 169.4049 - acc: 0.8952 - val_loss: 167.9978 - val_acc: 0.8515\n",
            "Epoch 3/4\n",
            "440/440 [==============================] - 392s 890ms/step - loss: 167.5379 - acc: 0.9256 - val_loss: 167.0236 - val_acc: 0.8555\n",
            "Epoch 4/4\n",
            "440/440 [==============================] - 388s 882ms/step - loss: 165.9949 - acc: 0.9411 - val_loss: 165.7974 - val_acc: 0.8584\n"
          ],
          "name": "stdout"
        }
      ]
    },
    {
      "cell_type": "code",
      "metadata": {
        "id": "z7I2iiRCvNRO",
        "colab_type": "code",
        "colab": {}
      },
      "source": [
        "feature_model = Model(cnn_model.input, cnn_model.get_layer('flatten_1').output)"
      ],
      "execution_count": 0,
      "outputs": []
    },
    {
      "cell_type": "code",
      "metadata": {
        "id": "CE_hRzcn1cqI",
        "colab_type": "code",
        "colab": {}
      },
      "source": [
        "from keras.preprocessing.image import ImageDataGenerator\n",
        "import numpy as np\n",
        "\n",
        "datagen = ImageDataGenerator()\n",
        "batch_size = 32\n",
        "\n",
        "def extract_features(directory, sample_count):\n",
        "  features = np.zeros(shape=(sample_count, 32768))\n",
        "  labels = np.zeros(shape=(sample_count))\n",
        "  generator = datagen.flow_from_directory(directory, target_size = (256,256),\n",
        "                                          batch_size = batch_size,\n",
        "                                          class_mode = 'binary')\n",
        "  i = 0\n",
        "  for inputs_batch, labels_batch in generator:\n",
        "    features_batch = feature_model.predict(inputs_batch)\n",
        "    features[i*batch_size: (i+1)*batch_size] = features_batch\n",
        "    labels[i*batch_size: (i+1)*batch_size] = labels_batch\n",
        "    i = i + 1\n",
        "    if i*batch_size >= sample_count:\n",
        "      break\n",
        "  return features, labels"
      ],
      "execution_count": 0,
      "outputs": []
    },
    {
      "cell_type": "code",
      "metadata": {
        "id": "Rr-u0t4T1fG9",
        "colab_type": "code",
        "colab": {
          "base_uri": "https://localhost:8080/",
          "height": 35
        },
        "outputId": "92b279b9-56cf-4787-b17f-e44889b9294a"
      },
      "source": [
        "train_dir = '/content/alignedGender/train'\n",
        "train_size = 14047\n",
        "train_features, train_labels = extract_features(train_dir, train_size)"
      ],
      "execution_count": 15,
      "outputs": [
        {
          "output_type": "stream",
          "text": [
            "Found 14047 images belonging to 2 classes.\n"
          ],
          "name": "stdout"
        }
      ]
    },
    {
      "cell_type": "code",
      "metadata": {
        "id": "5AtXSibx1ged",
        "colab_type": "code",
        "colab": {
          "base_uri": "https://localhost:8080/",
          "height": 35
        },
        "outputId": "77fd23a3-b510-48c5-af66-f33dce702ba2"
      },
      "source": [
        "test_dir = '/content/alignedGender/test'\n",
        "test_size = 3445\n",
        "test_features, test_labels = extract_features(test_dir, test_size)"
      ],
      "execution_count": 16,
      "outputs": [
        {
          "output_type": "stream",
          "text": [
            "Found 3445 images belonging to 2 classes.\n"
          ],
          "name": "stdout"
        }
      ]
    },
    {
      "cell_type": "code",
      "metadata": {
        "id": "sCVMOkdI2pit",
        "colab_type": "code",
        "colab": {}
      },
      "source": [
        "import lightgbm as lgbm"
      ],
      "execution_count": 0,
      "outputs": []
    },
    {
      "cell_type": "code",
      "metadata": {
        "id": "AGh7g7CQ2rdE",
        "colab_type": "code",
        "colab": {}
      },
      "source": [
        "model = lgbm.LGBMClassifier(boosting_type='gbdt', class_weight=None, colsample_bytree=1.0,\n",
        "               feature_fraction=0.7, importance_type='split', lambda_l1=0.0,\n",
        "               lambda_l2=1.0, learning_rate=0.07, max_depth=-1,\n",
        "               min_child_samples=20, min_child_weight=0.001,\n",
        "               min_data_in_leaf=100, min_split_gain=0.0, n_estimators=500,\n",
        "               n_jobs=-1, nthread=3, num_leaves=31, objective='binary',\n",
        "               random_state=None, reg_alpha=0.0, reg_lambda=0.0, silent=False,\n",
        "               subsample=1.0, subsample_for_bin=200000, subsample_freq=0)"
      ],
      "execution_count": 0,
      "outputs": []
    },
    {
      "cell_type": "code",
      "metadata": {
        "id": "cbEaLddu3He1",
        "colab_type": "code",
        "colab": {
          "base_uri": "https://localhost:8080/",
          "height": 164
        },
        "outputId": "d673ae0a-7aa6-41b7-dab3-1c9e9b073e29"
      },
      "source": [
        "model.fit(train_features, train_labels)"
      ],
      "execution_count": 19,
      "outputs": [
        {
          "output_type": "execute_result",
          "data": {
            "text/plain": [
              "LGBMClassifier(boosting_type='gbdt', class_weight=None, colsample_bytree=1.0,\n",
              "               feature_fraction=0.7, importance_type='split', lambda_l1=0.0,\n",
              "               lambda_l2=1.0, learning_rate=0.07, max_depth=-1,\n",
              "               min_child_samples=20, min_child_weight=0.001,\n",
              "               min_data_in_leaf=100, min_split_gain=0.0, n_estimators=500,\n",
              "               n_jobs=-1, nthread=3, num_leaves=31, objective='binary',\n",
              "               random_state=None, reg_alpha=0.0, reg_lambda=0.0, silent=False,\n",
              "               subsample=1.0, subsample_for_bin=200000, subsample_freq=0)"
            ]
          },
          "metadata": {
            "tags": []
          },
          "execution_count": 19
        }
      ]
    },
    {
      "cell_type": "code",
      "metadata": {
        "id": "52F-_uhF3JyV",
        "colab_type": "code",
        "colab": {}
      },
      "source": [
        "predictions = model.predict(test_features)"
      ],
      "execution_count": 0,
      "outputs": []
    },
    {
      "cell_type": "code",
      "metadata": {
        "id": "7oD7eLOk3b5N",
        "colab_type": "code",
        "colab": {
          "base_uri": "https://localhost:8080/",
          "height": 35
        },
        "outputId": "dc498353-051d-4eca-e196-c4d9dabf11ab"
      },
      "source": [
        "from sklearn.metrics import accuracy_score\n",
        "print(accuracy_score(test_labels, predictions))"
      ],
      "execution_count": 21,
      "outputs": [
        {
          "output_type": "stream",
          "text": [
            "0.8676342525399129\n"
          ],
          "name": "stdout"
        }
      ]
    },
    {
      "cell_type": "code",
      "metadata": {
        "id": "yJquHyAZ3dr1",
        "colab_type": "code",
        "colab": {}
      },
      "source": [
        ""
      ],
      "execution_count": 0,
      "outputs": []
    }
  ]
}