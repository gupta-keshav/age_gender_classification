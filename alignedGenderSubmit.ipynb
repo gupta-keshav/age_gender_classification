{
  "nbformat": 4,
  "nbformat_minor": 0,
  "metadata": {
    "colab": {
      "name": "alignedGenderSubmit.ipynb",
      "provenance": [],
      "authorship_tag": "ABX9TyPaqJYlHNKaWSlw0nueGpgk",
      "include_colab_link": true
    },
    "kernelspec": {
      "name": "python3",
      "display_name": "Python 3"
    },
    "accelerator": "GPU"
  },
  "cells": [
    {
      "cell_type": "markdown",
      "metadata": {
        "id": "view-in-github",
        "colab_type": "text"
      },
      "source": [
        "<a href=\"https://colab.research.google.com/github/gupta-keshav/age_gender_classification/blob/master/alignedGenderSubmit.ipynb\" target=\"_parent\"><img src=\"https://colab.research.google.com/assets/colab-badge.svg\" alt=\"Open In Colab\"/></a>"
      ]
    },
    {
      "cell_type": "code",
      "metadata": {
        "id": "Hi2bD-3JgRSj",
        "colab_type": "code",
        "outputId": "140f0b92-c8e9-467f-eec9-7deb41107716",
        "colab": {
          "base_uri": "https://localhost:8080/",
          "height": 129
        }
      },
      "source": [
        "from google.colab import drive\n",
        "drive.mount('/content/drive')"
      ],
      "execution_count": 1,
      "outputs": [
        {
          "output_type": "stream",
          "text": [
            "Go to this URL in a browser: https://accounts.google.com/o/oauth2/auth?client_id=947318989803-6bn6qk8qdgf4n4g3pfee6491hc0brc4i.apps.googleusercontent.com&redirect_uri=urn%3aietf%3awg%3aoauth%3a2.0%3aoob&response_type=code&scope=email%20https%3a%2f%2fwww.googleapis.com%2fauth%2fdocs.test%20https%3a%2f%2fwww.googleapis.com%2fauth%2fdrive%20https%3a%2f%2fwww.googleapis.com%2fauth%2fdrive.photos.readonly%20https%3a%2f%2fwww.googleapis.com%2fauth%2fpeopleapi.readonly\n",
            "\n",
            "Enter your authorization code:\n",
            "··········\n",
            "Mounted at /content/drive\n"
          ],
          "name": "stdout"
        }
      ]
    },
    {
      "cell_type": "code",
      "metadata": {
        "id": "3jHHU8MhgZaT",
        "colab_type": "code",
        "outputId": "96b0d87a-ce0f-47c2-996d-3ff3edef49ad",
        "colab": {
          "base_uri": "https://localhost:8080/",
          "height": 201
        }
      },
      "source": [
        "%pip install patool\n",
        "import patoolib\n",
        "patoolib.extract_archive(\"/content/drive/My Drive/Adience/alignedGender.rar\", outdir=\"/content\")"
      ],
      "execution_count": 2,
      "outputs": [
        {
          "output_type": "stream",
          "text": [
            "Collecting patool\n",
            "\u001b[?25l  Downloading https://files.pythonhosted.org/packages/43/94/52243ddff508780dd2d8110964320ab4851134a55ab102285b46e740f76a/patool-1.12-py2.py3-none-any.whl (77kB)\n",
            "\r\u001b[K     |████▎                           | 10kB 28.5MB/s eta 0:00:01\r\u001b[K     |████████▌                       | 20kB 1.8MB/s eta 0:00:01\r\u001b[K     |████████████▊                   | 30kB 2.6MB/s eta 0:00:01\r\u001b[K     |█████████████████               | 40kB 1.7MB/s eta 0:00:01\r\u001b[K     |█████████████████████▏          | 51kB 2.1MB/s eta 0:00:01\r\u001b[K     |█████████████████████████▍      | 61kB 2.5MB/s eta 0:00:01\r\u001b[K     |█████████████████████████████▋  | 71kB 2.9MB/s eta 0:00:01\r\u001b[K     |████████████████████████████████| 81kB 2.7MB/s \n",
            "\u001b[?25hInstalling collected packages: patool\n",
            "Successfully installed patool-1.12\n",
            "patool: Extracting /content/drive/My Drive/Adience/alignedGender.rar ...\n",
            "patool: running /usr/bin/unrar x -- \"/content/drive/My Drive/Adience/alignedGender.rar\"\n",
            "patool:     with cwd='/content'\n",
            "patool: ... /content/drive/My Drive/Adience/alignedGender.rar extracted to `/content'.\n"
          ],
          "name": "stdout"
        },
        {
          "output_type": "execute_result",
          "data": {
            "text/plain": [
              "'/content'"
            ]
          },
          "metadata": {
            "tags": []
          },
          "execution_count": 2
        }
      ]
    },
    {
      "cell_type": "code",
      "metadata": {
        "id": "H-4IismlglgK",
        "colab_type": "code",
        "colab": {
          "base_uri": "https://localhost:8080/",
          "height": 487
        },
        "outputId": "5c2af66a-2df7-466f-d2b1-5d8941c6d0a1"
      },
      "source": [
        "import keras\n",
        "import  tensorflow as tf\n",
        "from keras.models import Sequential\n",
        "from keras.layers import Dense, Dropout, Flatten, Conv2D, MaxPooling2D, AveragePooling2D, PReLU, ReLU\n",
        "from keras import optimizers, regularizers\n",
        "from keras.preprocessing.image import ImageDataGenerator\n",
        "import numpy as np\n",
        "np.random.seed(48)\n",
        "from keras.applications import vgg19\n",
        "from keras.models import Model\n",
        "input_shape = (224, 224, 3)\n",
        "vgg = vgg19.VGG19(include_top=False ,weights='imagenet', \n",
        "                                     input_shape=input_shape)   "
      ],
      "execution_count": 3,
      "outputs": [
        {
          "output_type": "stream",
          "text": [
            "Using TensorFlow backend.\n"
          ],
          "name": "stderr"
        },
        {
          "output_type": "display_data",
          "data": {
            "text/html": [
              "<p style=\"color: red;\">\n",
              "The default version of TensorFlow in Colab will soon switch to TensorFlow 2.x.<br>\n",
              "We recommend you <a href=\"https://www.tensorflow.org/guide/migrate\" target=\"_blank\">upgrade</a> now \n",
              "or ensure your notebook will continue to use TensorFlow 1.x via the <code>%tensorflow_version 1.x</code> magic:\n",
              "<a href=\"https://colab.research.google.com/notebooks/tensorflow_version.ipynb\" target=\"_blank\">more info</a>.</p>\n"
            ],
            "text/plain": [
              "<IPython.core.display.HTML object>"
            ]
          },
          "metadata": {
            "tags": []
          }
        },
        {
          "output_type": "stream",
          "text": [
            "WARNING:tensorflow:From /usr/local/lib/python3.6/dist-packages/keras/backend/tensorflow_backend.py:66: The name tf.get_default_graph is deprecated. Please use tf.compat.v1.get_default_graph instead.\n",
            "\n",
            "WARNING:tensorflow:From /usr/local/lib/python3.6/dist-packages/keras/backend/tensorflow_backend.py:541: The name tf.placeholder is deprecated. Please use tf.compat.v1.placeholder instead.\n",
            "\n",
            "WARNING:tensorflow:From /usr/local/lib/python3.6/dist-packages/keras/backend/tensorflow_backend.py:4432: The name tf.random_uniform is deprecated. Please use tf.random.uniform instead.\n",
            "\n",
            "WARNING:tensorflow:From /usr/local/lib/python3.6/dist-packages/keras/backend/tensorflow_backend.py:4267: The name tf.nn.max_pool is deprecated. Please use tf.nn.max_pool2d instead.\n",
            "\n",
            "Downloading data from https://github.com/fchollet/deep-learning-models/releases/download/v0.1/vgg19_weights_tf_dim_ordering_tf_kernels_notop.h5\n",
            "80142336/80134624 [==============================] - 1s 0us/step\n",
            "WARNING:tensorflow:From /usr/local/lib/python3.6/dist-packages/keras/backend/tensorflow_backend.py:190: The name tf.get_default_session is deprecated. Please use tf.compat.v1.get_default_session instead.\n",
            "\n",
            "WARNING:tensorflow:From /usr/local/lib/python3.6/dist-packages/keras/backend/tensorflow_backend.py:197: The name tf.ConfigProto is deprecated. Please use tf.compat.v1.ConfigProto instead.\n",
            "\n",
            "WARNING:tensorflow:From /usr/local/lib/python3.6/dist-packages/keras/backend/tensorflow_backend.py:203: The name tf.Session is deprecated. Please use tf.compat.v1.Session instead.\n",
            "\n",
            "WARNING:tensorflow:From /usr/local/lib/python3.6/dist-packages/keras/backend/tensorflow_backend.py:207: The name tf.global_variables is deprecated. Please use tf.compat.v1.global_variables instead.\n",
            "\n",
            "WARNING:tensorflow:From /usr/local/lib/python3.6/dist-packages/keras/backend/tensorflow_backend.py:216: The name tf.is_variable_initialized is deprecated. Please use tf.compat.v1.is_variable_initialized instead.\n",
            "\n",
            "WARNING:tensorflow:From /usr/local/lib/python3.6/dist-packages/keras/backend/tensorflow_backend.py:223: The name tf.variables_initializer is deprecated. Please use tf.compat.v1.variables_initializer instead.\n",
            "\n"
          ],
          "name": "stdout"
        }
      ]
    },
    {
      "cell_type": "code",
      "metadata": {
        "id": "7VKsjiXhhH6r",
        "colab_type": "code",
        "outputId": "ae11cef8-698d-4486-aadf-2e6601c4608c",
        "colab": {
          "base_uri": "https://localhost:8080/",
          "height": 35
        }
      },
      "source": [
        "last = vgg.output\n",
        "print(vgg.output)"
      ],
      "execution_count": 4,
      "outputs": [
        {
          "output_type": "stream",
          "text": [
            "Tensor(\"block5_pool/MaxPool:0\", shape=(?, 7, 7, 512), dtype=float32)\n"
          ],
          "name": "stdout"
        }
      ]
    },
    {
      "cell_type": "code",
      "metadata": {
        "id": "fm8zCVROhUlL",
        "colab_type": "code",
        "outputId": "fe284ea2-70d2-4487-b977-f22653ae893c",
        "colab": {
          "base_uri": "https://localhost:8080/",
          "height": 147
        }
      },
      "source": [
        "x = Flatten()(last)\n",
        "# x = keras.layers.BatchNormalization()(x)\n",
        "x = Dropout(0.3)(x)\n",
        "x = Dense(4096, activation='relu', kernel_regularizer=regularizers.l1_l2(l1=0.1, l2=0.1))(x)\n",
        "# x = keras.layers.BatchNormalization()(x)\n",
        "x = Dropout(0.55)(x)"
      ],
      "execution_count": 5,
      "outputs": [
        {
          "output_type": "stream",
          "text": [
            "WARNING:tensorflow:From /usr/local/lib/python3.6/dist-packages/keras/backend/tensorflow_backend.py:148: The name tf.placeholder_with_default is deprecated. Please use tf.compat.v1.placeholder_with_default instead.\n",
            "\n",
            "WARNING:tensorflow:From /usr/local/lib/python3.6/dist-packages/keras/backend/tensorflow_backend.py:3733: calling dropout (from tensorflow.python.ops.nn_ops) with keep_prob is deprecated and will be removed in a future version.\n",
            "Instructions for updating:\n",
            "Please use `rate` instead of `keep_prob`. Rate should be set to `rate = 1 - keep_prob`.\n",
            "WARNING:tensorflow:Large dropout rate: 0.55 (>0.5). In TensorFlow 2.x, dropout() uses dropout rate instead of keep_prob. Please ensure that this is intended.\n"
          ],
          "name": "stdout"
        }
      ]
    },
    {
      "cell_type": "code",
      "metadata": {
        "id": "ok65GqWjhWvq",
        "colab_type": "code",
        "colab": {}
      },
      "source": [
        "preds = Dense(1, activation = 'sigmoid')(x)"
      ],
      "execution_count": 0,
      "outputs": []
    },
    {
      "cell_type": "code",
      "metadata": {
        "id": "4-poRjNdhYRk",
        "colab_type": "code",
        "colab": {}
      },
      "source": [
        "model = Model(vgg.input, preds)"
      ],
      "execution_count": 0,
      "outputs": []
    },
    {
      "cell_type": "code",
      "metadata": {
        "id": "nif4bgjZhZyK",
        "colab_type": "code",
        "outputId": "46d10211-d3f3-4553-dc2f-f62404274b2f",
        "colab": {
          "base_uri": "https://localhost:8080/",
          "height": 896
        }
      },
      "source": [
        "import pandas as pd\n",
        "layers = [(layer.output, layer.name, layer.trainable) for layer in model.layers]\n",
        "pd.set_option('max_colwidth', -1)\n",
        "\n",
        "pd.DataFrame(layers, columns=['Layer Type', 'Layer Name', 'Layer Trainable']) "
      ],
      "execution_count": 8,
      "outputs": [
        {
          "output_type": "execute_result",
          "data": {
            "text/html": [
              "<div>\n",
              "<style scoped>\n",
              "    .dataframe tbody tr th:only-of-type {\n",
              "        vertical-align: middle;\n",
              "    }\n",
              "\n",
              "    .dataframe tbody tr th {\n",
              "        vertical-align: top;\n",
              "    }\n",
              "\n",
              "    .dataframe thead th {\n",
              "        text-align: right;\n",
              "    }\n",
              "</style>\n",
              "<table border=\"1\" class=\"dataframe\">\n",
              "  <thead>\n",
              "    <tr style=\"text-align: right;\">\n",
              "      <th></th>\n",
              "      <th>Layer Type</th>\n",
              "      <th>Layer Name</th>\n",
              "      <th>Layer Trainable</th>\n",
              "    </tr>\n",
              "  </thead>\n",
              "  <tbody>\n",
              "    <tr>\n",
              "      <th>0</th>\n",
              "      <td>Tensor(\"input_1:0\", shape=(?, 224, 224, 3), dtype=float32)</td>\n",
              "      <td>input_1</td>\n",
              "      <td>False</td>\n",
              "    </tr>\n",
              "    <tr>\n",
              "      <th>1</th>\n",
              "      <td>Tensor(\"block1_conv1/Relu:0\", shape=(?, 224, 224, 64), dtype=float32)</td>\n",
              "      <td>block1_conv1</td>\n",
              "      <td>True</td>\n",
              "    </tr>\n",
              "    <tr>\n",
              "      <th>2</th>\n",
              "      <td>Tensor(\"block1_conv2/Relu:0\", shape=(?, 224, 224, 64), dtype=float32)</td>\n",
              "      <td>block1_conv2</td>\n",
              "      <td>True</td>\n",
              "    </tr>\n",
              "    <tr>\n",
              "      <th>3</th>\n",
              "      <td>Tensor(\"block1_pool/MaxPool:0\", shape=(?, 112, 112, 64), dtype=float32)</td>\n",
              "      <td>block1_pool</td>\n",
              "      <td>True</td>\n",
              "    </tr>\n",
              "    <tr>\n",
              "      <th>4</th>\n",
              "      <td>Tensor(\"block2_conv1/Relu:0\", shape=(?, 112, 112, 128), dtype=float32)</td>\n",
              "      <td>block2_conv1</td>\n",
              "      <td>True</td>\n",
              "    </tr>\n",
              "    <tr>\n",
              "      <th>5</th>\n",
              "      <td>Tensor(\"block2_conv2/Relu:0\", shape=(?, 112, 112, 128), dtype=float32)</td>\n",
              "      <td>block2_conv2</td>\n",
              "      <td>True</td>\n",
              "    </tr>\n",
              "    <tr>\n",
              "      <th>6</th>\n",
              "      <td>Tensor(\"block2_pool/MaxPool:0\", shape=(?, 56, 56, 128), dtype=float32)</td>\n",
              "      <td>block2_pool</td>\n",
              "      <td>True</td>\n",
              "    </tr>\n",
              "    <tr>\n",
              "      <th>7</th>\n",
              "      <td>Tensor(\"block3_conv1/Relu:0\", shape=(?, 56, 56, 256), dtype=float32)</td>\n",
              "      <td>block3_conv1</td>\n",
              "      <td>True</td>\n",
              "    </tr>\n",
              "    <tr>\n",
              "      <th>8</th>\n",
              "      <td>Tensor(\"block3_conv2/Relu:0\", shape=(?, 56, 56, 256), dtype=float32)</td>\n",
              "      <td>block3_conv2</td>\n",
              "      <td>True</td>\n",
              "    </tr>\n",
              "    <tr>\n",
              "      <th>9</th>\n",
              "      <td>Tensor(\"block3_conv3/Relu:0\", shape=(?, 56, 56, 256), dtype=float32)</td>\n",
              "      <td>block3_conv3</td>\n",
              "      <td>True</td>\n",
              "    </tr>\n",
              "    <tr>\n",
              "      <th>10</th>\n",
              "      <td>Tensor(\"block3_conv4/Relu:0\", shape=(?, 56, 56, 256), dtype=float32)</td>\n",
              "      <td>block3_conv4</td>\n",
              "      <td>True</td>\n",
              "    </tr>\n",
              "    <tr>\n",
              "      <th>11</th>\n",
              "      <td>Tensor(\"block3_pool/MaxPool:0\", shape=(?, 28, 28, 256), dtype=float32)</td>\n",
              "      <td>block3_pool</td>\n",
              "      <td>True</td>\n",
              "    </tr>\n",
              "    <tr>\n",
              "      <th>12</th>\n",
              "      <td>Tensor(\"block4_conv1/Relu:0\", shape=(?, 28, 28, 512), dtype=float32)</td>\n",
              "      <td>block4_conv1</td>\n",
              "      <td>True</td>\n",
              "    </tr>\n",
              "    <tr>\n",
              "      <th>13</th>\n",
              "      <td>Tensor(\"block4_conv2/Relu:0\", shape=(?, 28, 28, 512), dtype=float32)</td>\n",
              "      <td>block4_conv2</td>\n",
              "      <td>True</td>\n",
              "    </tr>\n",
              "    <tr>\n",
              "      <th>14</th>\n",
              "      <td>Tensor(\"block4_conv3/Relu:0\", shape=(?, 28, 28, 512), dtype=float32)</td>\n",
              "      <td>block4_conv3</td>\n",
              "      <td>True</td>\n",
              "    </tr>\n",
              "    <tr>\n",
              "      <th>15</th>\n",
              "      <td>Tensor(\"block4_conv4/Relu:0\", shape=(?, 28, 28, 512), dtype=float32)</td>\n",
              "      <td>block4_conv4</td>\n",
              "      <td>True</td>\n",
              "    </tr>\n",
              "    <tr>\n",
              "      <th>16</th>\n",
              "      <td>Tensor(\"block4_pool/MaxPool:0\", shape=(?, 14, 14, 512), dtype=float32)</td>\n",
              "      <td>block4_pool</td>\n",
              "      <td>True</td>\n",
              "    </tr>\n",
              "    <tr>\n",
              "      <th>17</th>\n",
              "      <td>Tensor(\"block5_conv1/Relu:0\", shape=(?, 14, 14, 512), dtype=float32)</td>\n",
              "      <td>block5_conv1</td>\n",
              "      <td>True</td>\n",
              "    </tr>\n",
              "    <tr>\n",
              "      <th>18</th>\n",
              "      <td>Tensor(\"block5_conv2/Relu:0\", shape=(?, 14, 14, 512), dtype=float32)</td>\n",
              "      <td>block5_conv2</td>\n",
              "      <td>True</td>\n",
              "    </tr>\n",
              "    <tr>\n",
              "      <th>19</th>\n",
              "      <td>Tensor(\"block5_conv3/Relu:0\", shape=(?, 14, 14, 512), dtype=float32)</td>\n",
              "      <td>block5_conv3</td>\n",
              "      <td>True</td>\n",
              "    </tr>\n",
              "    <tr>\n",
              "      <th>20</th>\n",
              "      <td>Tensor(\"block5_conv4/Relu:0\", shape=(?, 14, 14, 512), dtype=float32)</td>\n",
              "      <td>block5_conv4</td>\n",
              "      <td>True</td>\n",
              "    </tr>\n",
              "    <tr>\n",
              "      <th>21</th>\n",
              "      <td>Tensor(\"block5_pool/MaxPool:0\", shape=(?, 7, 7, 512), dtype=float32)</td>\n",
              "      <td>block5_pool</td>\n",
              "      <td>True</td>\n",
              "    </tr>\n",
              "    <tr>\n",
              "      <th>22</th>\n",
              "      <td>Tensor(\"flatten_1/Reshape:0\", shape=(?, ?), dtype=float32)</td>\n",
              "      <td>flatten_1</td>\n",
              "      <td>True</td>\n",
              "    </tr>\n",
              "    <tr>\n",
              "      <th>23</th>\n",
              "      <td>Tensor(\"dropout_1/cond/Merge:0\", shape=(?, ?), dtype=float32)</td>\n",
              "      <td>dropout_1</td>\n",
              "      <td>True</td>\n",
              "    </tr>\n",
              "    <tr>\n",
              "      <th>24</th>\n",
              "      <td>Tensor(\"dense_1/Relu:0\", shape=(?, 4096), dtype=float32)</td>\n",
              "      <td>dense_1</td>\n",
              "      <td>True</td>\n",
              "    </tr>\n",
              "    <tr>\n",
              "      <th>25</th>\n",
              "      <td>Tensor(\"dropout_2/cond/Merge:0\", shape=(?, 4096), dtype=float32)</td>\n",
              "      <td>dropout_2</td>\n",
              "      <td>True</td>\n",
              "    </tr>\n",
              "    <tr>\n",
              "      <th>26</th>\n",
              "      <td>Tensor(\"dense_2/Sigmoid:0\", shape=(?, 1), dtype=float32)</td>\n",
              "      <td>dense_2</td>\n",
              "      <td>True</td>\n",
              "    </tr>\n",
              "  </tbody>\n",
              "</table>\n",
              "</div>"
            ],
            "text/plain": [
              "                                                                 Layer Type  ... Layer Trainable\n",
              "0   Tensor(\"input_1:0\", shape=(?, 224, 224, 3), dtype=float32)               ...  False         \n",
              "1   Tensor(\"block1_conv1/Relu:0\", shape=(?, 224, 224, 64), dtype=float32)    ...  True          \n",
              "2   Tensor(\"block1_conv2/Relu:0\", shape=(?, 224, 224, 64), dtype=float32)    ...  True          \n",
              "3   Tensor(\"block1_pool/MaxPool:0\", shape=(?, 112, 112, 64), dtype=float32)  ...  True          \n",
              "4   Tensor(\"block2_conv1/Relu:0\", shape=(?, 112, 112, 128), dtype=float32)   ...  True          \n",
              "5   Tensor(\"block2_conv2/Relu:0\", shape=(?, 112, 112, 128), dtype=float32)   ...  True          \n",
              "6   Tensor(\"block2_pool/MaxPool:0\", shape=(?, 56, 56, 128), dtype=float32)   ...  True          \n",
              "7   Tensor(\"block3_conv1/Relu:0\", shape=(?, 56, 56, 256), dtype=float32)     ...  True          \n",
              "8   Tensor(\"block3_conv2/Relu:0\", shape=(?, 56, 56, 256), dtype=float32)     ...  True          \n",
              "9   Tensor(\"block3_conv3/Relu:0\", shape=(?, 56, 56, 256), dtype=float32)     ...  True          \n",
              "10  Tensor(\"block3_conv4/Relu:0\", shape=(?, 56, 56, 256), dtype=float32)     ...  True          \n",
              "11  Tensor(\"block3_pool/MaxPool:0\", shape=(?, 28, 28, 256), dtype=float32)   ...  True          \n",
              "12  Tensor(\"block4_conv1/Relu:0\", shape=(?, 28, 28, 512), dtype=float32)     ...  True          \n",
              "13  Tensor(\"block4_conv2/Relu:0\", shape=(?, 28, 28, 512), dtype=float32)     ...  True          \n",
              "14  Tensor(\"block4_conv3/Relu:0\", shape=(?, 28, 28, 512), dtype=float32)     ...  True          \n",
              "15  Tensor(\"block4_conv4/Relu:0\", shape=(?, 28, 28, 512), dtype=float32)     ...  True          \n",
              "16  Tensor(\"block4_pool/MaxPool:0\", shape=(?, 14, 14, 512), dtype=float32)   ...  True          \n",
              "17  Tensor(\"block5_conv1/Relu:0\", shape=(?, 14, 14, 512), dtype=float32)     ...  True          \n",
              "18  Tensor(\"block5_conv2/Relu:0\", shape=(?, 14, 14, 512), dtype=float32)     ...  True          \n",
              "19  Tensor(\"block5_conv3/Relu:0\", shape=(?, 14, 14, 512), dtype=float32)     ...  True          \n",
              "20  Tensor(\"block5_conv4/Relu:0\", shape=(?, 14, 14, 512), dtype=float32)     ...  True          \n",
              "21  Tensor(\"block5_pool/MaxPool:0\", shape=(?, 7, 7, 512), dtype=float32)     ...  True          \n",
              "22  Tensor(\"flatten_1/Reshape:0\", shape=(?, ?), dtype=float32)               ...  True          \n",
              "23  Tensor(\"dropout_1/cond/Merge:0\", shape=(?, ?), dtype=float32)            ...  True          \n",
              "24  Tensor(\"dense_1/Relu:0\", shape=(?, 4096), dtype=float32)                 ...  True          \n",
              "25  Tensor(\"dropout_2/cond/Merge:0\", shape=(?, 4096), dtype=float32)         ...  True          \n",
              "26  Tensor(\"dense_2/Sigmoid:0\", shape=(?, 1), dtype=float32)                 ...  True          \n",
              "\n",
              "[27 rows x 3 columns]"
            ]
          },
          "metadata": {
            "tags": []
          },
          "execution_count": 8
        }
      ]
    },
    {
      "cell_type": "code",
      "metadata": {
        "id": "uE5-aszKhbSC",
        "colab_type": "code",
        "colab": {}
      },
      "source": [
        "for i in range(17):\n",
        "  model.layers[i].trainable = False"
      ],
      "execution_count": 0,
      "outputs": []
    },
    {
      "cell_type": "code",
      "metadata": {
        "id": "l2BzXZlXimTO",
        "colab_type": "code",
        "colab": {
          "base_uri": "https://localhost:8080/",
          "height": 146
        },
        "outputId": "f956b046-c203-42ab-ac88-609da25814a6"
      },
      "source": [
        "model.compile(optimizer = optimizers.Adam(lr=1e-4), loss= 'binary_crossentropy',\n",
        "              metrics = ['accuracy'])"
      ],
      "execution_count": 10,
      "outputs": [
        {
          "output_type": "stream",
          "text": [
            "WARNING:tensorflow:From /usr/local/lib/python3.6/dist-packages/keras/optimizers.py:793: The name tf.train.Optimizer is deprecated. Please use tf.compat.v1.train.Optimizer instead.\n",
            "\n",
            "WARNING:tensorflow:From /usr/local/lib/python3.6/dist-packages/keras/backend/tensorflow_backend.py:3657: The name tf.log is deprecated. Please use tf.math.log instead.\n",
            "\n",
            "WARNING:tensorflow:From /usr/local/lib/python3.6/dist-packages/tensorflow_core/python/ops/nn_impl.py:183: where (from tensorflow.python.ops.array_ops) is deprecated and will be removed in a future version.\n",
            "Instructions for updating:\n",
            "Use tf.where in 2.0, which has the same broadcast rule as np.where\n"
          ],
          "name": "stdout"
        }
      ]
    },
    {
      "cell_type": "code",
      "metadata": {
        "id": "Mb7poJHtPEYU",
        "colab_type": "code",
        "colab": {}
      },
      "source": [
        "\n",
        "import tensorflow as tf\n",
        "def preprocess(img):\n",
        "  img = tf.keras.applications.vgg19.preprocess_input(img)\n",
        "  return img"
      ],
      "execution_count": 0,
      "outputs": []
    },
    {
      "cell_type": "code",
      "metadata": {
        "id": "eGO1n1txvBJ1",
        "colab_type": "code",
        "colab": {}
      },
      "source": [
        "class FixedImageDataGenerator(ImageDataGenerator):\n",
        "  def standardize(self, x):\n",
        "    if self.featurewise_center:\n",
        "      img = tf.keras.applications.vgg19.preprocess_input(x)\n",
        "      # x = ((x/255.) - 0.5) * 2.\n",
        "    return x"
      ],
      "execution_count": 0,
      "outputs": []
    },
    {
      "cell_type": "code",
      "metadata": {
        "id": "u5gB74pwhcii",
        "colab_type": "code",
        "outputId": "039444e3-0fa6-4506-b1c8-08df30e4d653",
        "colab": {
          "base_uri": "https://localhost:8080/",
          "height": 54
        }
      },
      "source": [
        "data_gen_args = dict(\n",
        "    featurewise_center=True,\n",
        "    featurewise_std_normalization=True,\n",
        "    # rotation_range=20,\n",
        "    # width_shift_range=0.2,\n",
        "    # height_shift_range=0.2,\n",
        "    # horizontal_flip=True,\n",
        ")\n",
        "\n",
        "train_datagen = FixedImageDataGenerator(**data_gen_args)\n",
        "train_generator = train_datagen.flow_from_directory(\n",
        "        '/content/alignedGender/train',\n",
        "        target_size=(224, 224),\n",
        "        batch_size=32,\n",
        "        class_mode='binary')\n",
        "validate_generator = train_datagen.flow_from_directory(\n",
        "        '/content/alignedGender/test',\n",
        "        target_size=(224, 224),\n",
        "        batch_size=32,\n",
        "        class_mode='binary')\n"
      ],
      "execution_count": 13,
      "outputs": [
        {
          "output_type": "stream",
          "text": [
            "Found 14047 images belonging to 2 classes.\n",
            "Found 3445 images belonging to 2 classes.\n"
          ],
          "name": "stdout"
        }
      ]
    },
    {
      "cell_type": "code",
      "metadata": {
        "id": "F25ps4cghits",
        "colab_type": "code",
        "outputId": "1ea897ff-9403-4774-a147-ca3e8f2312ec",
        "colab": {
          "base_uri": "https://localhost:8080/",
          "height": 201
        }
      },
      "source": [
        "history = model.fit_generator(train_generator, steps_per_epoch=440, epochs=3, verbose=1, callbacks=None, validation_data=validate_generator, validation_steps=110, validation_freq=1, class_weight=None, max_queue_size=10, workers=-1, use_multiprocessing=True, shuffle=False)"
      ],
      "execution_count": 14,
      "outputs": [
        {
          "output_type": "stream",
          "text": [
            "WARNING:tensorflow:From /usr/local/lib/python3.6/dist-packages/keras/backend/tensorflow_backend.py:1033: The name tf.assign_add is deprecated. Please use tf.compat.v1.assign_add instead.\n",
            "\n",
            "WARNING:tensorflow:From /usr/local/lib/python3.6/dist-packages/keras/backend/tensorflow_backend.py:1020: The name tf.assign is deprecated. Please use tf.compat.v1.assign instead.\n",
            "\n",
            "Epoch 1/3\n",
            "440/440 [==============================] - 349s 793ms/step - loss: 8387.9890 - acc: 0.7695 - val_loss: 131.2968 - val_acc: 0.7994\n",
            "Epoch 2/3\n",
            "440/440 [==============================] - 325s 738ms/step - loss: 131.0940 - acc: 0.8888 - val_loss: 130.4834 - val_acc: 0.8492\n",
            "Epoch 3/3\n",
            "440/440 [==============================] - 322s 732ms/step - loss: 130.1571 - acc: 0.9173 - val_loss: 130.1361 - val_acc: 0.8538\n"
          ],
          "name": "stdout"
        }
      ]
    },
    {
      "cell_type": "code",
      "metadata": {
        "id": "FpFhFfGsVk7j",
        "colab_type": "code",
        "colab": {
          "base_uri": "https://localhost:8080/",
          "height": 54
        },
        "outputId": "ebe61f17-1485-442c-a9c8-094cb03539ae"
      },
      "source": [
        "data_gen_args = dict(\n",
        "    featurewise_center=True,\n",
        "    featurewise_std_normalization=True,\n",
        "    rotation_range=20,\n",
        "    width_shift_range=0.2,\n",
        "    height_shift_range=0.2,\n",
        "    horizontal_flip=True,\n",
        ")\n",
        "\n",
        "train_datagen = FixedImageDataGenerator(**data_gen_args)\n",
        "train_generator = train_datagen.flow_from_directory(\n",
        "        '/content/alignedGender/train',\n",
        "        target_size=(224, 224),\n",
        "        batch_size=32,\n",
        "        class_mode='binary')\n",
        "\n",
        "data_gen_args = dict(\n",
        "    featurewise_center=True,\n",
        "    featurewise_std_normalization=True,\n",
        "    # rotation_range=20,\n",
        "    # width_shift_range=0.2,\n",
        "    # height_shift_range=0.2,\n",
        "    # horizontal_flip=True,\n",
        ")\n",
        "validate_datagen = FixedImageDataGenerator(**data_gen_args)\n",
        "validate_generator = validate_datagen.flow_from_directory(\n",
        "        '/content/alignedGender/test',\n",
        "        target_size=(224, 224),\n",
        "        batch_size=32,\n",
        "        class_mode='binary')\n"
      ],
      "execution_count": 15,
      "outputs": [
        {
          "output_type": "stream",
          "text": [
            "Found 14047 images belonging to 2 classes.\n",
            "Found 3445 images belonging to 2 classes.\n"
          ],
          "name": "stdout"
        }
      ]
    },
    {
      "cell_type": "code",
      "metadata": {
        "id": "oG0269CezJDX",
        "colab_type": "code",
        "outputId": "1ed8e976-2f40-4831-ff91-bf8905b73388",
        "colab": {
          "base_uri": "https://localhost:8080/",
          "height": 90
        }
      },
      "source": [
        "history = model.fit_generator(train_generator, steps_per_epoch=440, epochs=2, verbose=1, callbacks=None, validation_data=validate_generator, validation_steps=110, validation_freq=1, class_weight=None, max_queue_size=10, workers=-1, use_multiprocessing=True, shuffle=False)"
      ],
      "execution_count": 16,
      "outputs": [
        {
          "output_type": "stream",
          "text": [
            "Epoch 1/2\n",
            "440/440 [==============================] - 440s 999ms/step - loss: 129.6642 - acc: 0.8805 - val_loss: 129.1208 - val_acc: 0.8262\n",
            "Epoch 2/2\n",
            "440/440 [==============================] - 441s 1s/step - loss: 128.2332 - acc: 0.9035 - val_loss: 128.3246 - val_acc: 0.7931\n"
          ],
          "name": "stdout"
        }
      ]
    },
    {
      "cell_type": "code",
      "metadata": {
        "id": "vwFCCqcMzMHe",
        "colab_type": "code",
        "outputId": "2d53520e-1a45-48dc-92cf-ef0eed252511",
        "colab": {
          "base_uri": "https://localhost:8080/",
          "height": 54
        }
      },
      "source": [
        "history = model.fit_generator(train_generator, steps_per_epoch=440, epochs=1, verbose=1, callbacks=None, validation_data=validate_generator, validation_steps=110, validation_freq=1, class_weight=None, max_queue_size=10, workers=-1, use_multiprocessing=True, shuffle=False)"
      ],
      "execution_count": 17,
      "outputs": [
        {
          "output_type": "stream",
          "text": [
            "Epoch 1/1\n",
            "440/440 [==============================] - 447s 1s/step - loss: 126.9132 - acc: 0.9173 - val_loss: 126.5978 - val_acc: 0.8940\n"
          ],
          "name": "stdout"
        }
      ]
    },
    {
      "cell_type": "code",
      "metadata": {
        "id": "I_t2UA5TVwSV",
        "colab_type": "code",
        "colab": {
          "base_uri": "https://localhost:8080/",
          "height": 127
        },
        "outputId": "ab50c713-3688-4aea-ba84-6eb766086e1f"
      },
      "source": [
        "history = model.fit_generator(train_generator, steps_per_epoch=440, epochs=3, verbose=1, callbacks=None, validation_data=validate_generator, validation_steps=110, validation_freq=1, class_weight=None, max_queue_size=10, workers=-1, use_multiprocessing=True, shuffle=False)"
      ],
      "execution_count": 18,
      "outputs": [
        {
          "output_type": "stream",
          "text": [
            "Epoch 1/3\n",
            "440/440 [==============================] - 442s 1s/step - loss: 125.7677 - acc: 0.9258 - val_loss: 125.3145 - val_acc: 0.8669\n",
            "Epoch 2/3\n",
            "440/440 [==============================] - 441s 1s/step - loss: 124.8288 - acc: 0.9407 - val_loss: 124.2937 - val_acc: 0.8749\n",
            "Epoch 3/3\n",
            "440/440 [==============================] - 439s 999ms/step - loss: 124.0912 - acc: 0.9410 - val_loss: 123.5953 - val_acc: 0.8914\n"
          ],
          "name": "stdout"
        }
      ]
    },
    {
      "cell_type": "code",
      "metadata": {
        "id": "k-A_Mo_C-mub",
        "colab_type": "code",
        "colab": {}
      },
      "source": [
        ""
      ],
      "execution_count": 0,
      "outputs": []
    }
  ]
}